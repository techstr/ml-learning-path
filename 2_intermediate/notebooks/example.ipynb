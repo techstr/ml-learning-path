{
 "cells": [
  {
   "cell_type": "markdown",
   "metadata": {},
   "source": [
    "# Intermediate Machine Learning Examples\n",
    "\n",
    "This notebook contains intermediate-level machine learning examples using PyTorch, TensorFlow, and scikit-learn. The focus will be on implementing models, training them, and evaluating their performance."
   ]
  },
  {
   "cell_type": "code",
   "execution_count": null,
   "metadata": {},
   "outputs": [],
   "source": [
    "import numpy as np\n",
    "import pandas as pd\n",
    "import torch\n",
    "import tensorflow as tf\n",
    "from sklearn.model_selection import train_test_split\n",
    "from sklearn.metrics import accuracy_score\n",
    "\n",
    "# Example: Load a dataset\n",
    "data = pd.read_csv(\"../data/intermediate_dataset.csv\")\n",
    "\n",
    "# Preprocessing\n",
    "X = data.drop(\"target\", axis=1)\n",
    "y = data[\"target\"]\n",
    "X_train, X_test, y_train, y_test = train_test_split(X, y, test_size=0.2, random_state=42)\n",
    "\n",
    "\n",
    "# Example: PyTorch Model\n",
    "class SimpleNN(torch.nn.Module):\n",
    "    def __init__(self, input_size):\n",
    "        super(SimpleNN, self).__init__()\n",
    "        self.fc1 = torch.nn.Linear(input_size, 64)\n",
    "        self.fc2 = torch.nn.Linear(64, 1)\n",
    "        self.sigmoid = torch.nn.Sigmoid()\n",
    "\n",
    "    def forward(self, x):\n",
    "        x = torch.relu(self.fc1(x))\n",
    "        x = self.sigmoid(self.fc2(x))\n",
    "        return x\n",
    "\n",
    "\n",
    "# Initialize model, loss function, and optimizer\n",
    "model = SimpleNN(input_size=X_train.shape[1])\n",
    "criterion = torch.nn.BCELoss()\n",
    "optimizer = torch.optim.Adam(model.parameters(), lr=0.001)\n",
    "\n",
    "# Training loop\n",
    "for epoch in range(100):\n",
    "    model.train()\n",
    "    optimizer.zero_grad()\n",
    "    outputs = model(torch.FloatTensor(X_train.values))\n",
    "    loss = criterion(outputs.squeeze(), torch.FloatTensor(y_train.values))\n",
    "    loss.backward()\n",
    "    optimizer.step()\n",
    "\n",
    "# Evaluation\n",
    "model.eval()\n",
    "with torch.no_grad():\n",
    "    test_outputs = model(torch.FloatTensor(X_test.values))\n",
    "    predicted = (test_outputs.squeeze() > 0.5).float()\n",
    "    accuracy = accuracy_score(y_test, predicted.numpy())\n",
    "    print(f\"Accuracy: {accuracy * 100:.2f}%\")\n",
    "\n",
    "# Example: TensorFlow Model\n",
    "tf_model = tf.keras.Sequential(\n",
    "    [tf.keras.layers.Dense(64, activation=\"relu\", input_shape=(X_train.shape[1],)), tf.keras.layers.Dense(1, activation=\"sigmoid\")]\n",
    ")\n",
    "\n",
    "tf_model.compile(optimizer=\"adam\", loss=\"binary_crossentropy\", metrics=[\"accuracy\"])\n",
    "\n",
    "# Training TensorFlow model\n",
    "tf_model.fit(X_train, y_train, epochs=100, batch_size=32)\n",
    "\n",
    "# Evaluate TensorFlow model\n",
    "loss, accuracy = tf_model.evaluate(X_test, y_test)\n",
    "print(f\"TensorFlow Model Accuracy: {accuracy * 100:.2f}%\")"
   ]
  }
 ],
 "metadata": {
  "kernelspec": {
   "display_name": ".venv",
   "language": "python",
   "name": "python3"
  },
  "language_info": {
   "codemirror_mode": {
    "name": "ipython",
    "version": 3
   },
   "file_extension": ".py",
   "mimetype": "text/x-python",
   "name": "python",
   "nbconvert_exporter": "python",
   "pygments_lexer": "ipython3",
   "version": "3.12.9"
  }
 },
 "nbformat": 4,
 "nbformat_minor": 4
}
